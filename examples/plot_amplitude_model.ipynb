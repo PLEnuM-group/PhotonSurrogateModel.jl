{
 "cells": [
  {
   "cell_type": "code",
   "execution_count": 1,
   "metadata": {},
   "outputs": [],
   "source": [
    "using PhotonPropagation\n",
    "using PhotonSurrogateModel\n",
    "using NeutrinoTelescopeBase\n",
    "using NeutrinoSurrogateModelData\n",
    "using PhysicsTools\n",
    "using StaticArrays\n",
    "using LinearAlgebra\n",
    "using Random\n",
    "using Flux\n",
    "using DataFrames\n",
    "using CairoMakie\n",
    "using BSON\n",
    "using LogExpFunctions\n",
    "using Distributions"
   ]
  },
  {
   "cell_type": "code",
   "execution_count": 2,
   "metadata": {},
   "outputs": [
    {
     "data": {
      "text/plain": [
       "SimpleMLPAmpModel(Chain(Dense(6 => 512, relu), Dropout(0.1, active=false), Dense(512 => 512, relu), Dropout(0.1, active=false), Dense(512 => 512, relu), Dropout(0.1, active=false), Dense(512 => 16)))"
      ]
     },
     "metadata": {},
     "output_type": "display_data"
    }
   ],
   "source": [
    "model = BSON.load(\"/home/wecapstor3/capn/capn100h/simple_mlp_amp_model.bson\")[:model]"
   ]
  },
  {
   "cell_type": "code",
   "execution_count": 3,
   "metadata": {},
   "outputs": [
    {
     "data": {
      "text/plain": [
       "6×100 Matrix{Float32}:\n",
       " 0.0  0.0  0.0  0.0  0.0  0.0  0.0  0.0  …  0.0  0.0  0.0  0.0  0.0  0.0  0.0\n",
       " 0.0  0.0  0.0  0.0  0.0  0.0  0.0  0.0     0.0  0.0  0.0  0.0  0.0  0.0  0.0\n",
       " 0.0  0.0  0.0  0.0  0.0  0.0  0.0  0.0     0.0  0.0  0.0  0.0  0.0  0.0  0.0\n",
       " 0.0  0.0  0.0  0.0  0.0  0.0  0.0  0.0     0.0  0.0  0.0  0.0  0.0  0.0  0.0\n",
       " 0.0  0.0  0.0  0.0  0.0  0.0  0.0  0.0     0.0  0.0  0.0  0.0  0.0  0.0  0.0\n",
       " 0.0  0.0  0.0  0.0  0.0  0.0  0.0  0.0  …  0.0  0.0  0.0  0.0  0.0  0.0  0.0"
      ]
     },
     "metadata": {},
     "output_type": "display_data"
    }
   ],
   "source": [
    "feat_buffer = zeros(Float32, 6, 100)"
   ]
  },
  {
   "cell_type": "code",
   "execution_count": 4,
   "metadata": {},
   "outputs": [
    {
     "ename": "MethodError",
     "evalue": "MethodError: no method matching get_pmt_count(::POM{Float64, POMAcceptance{Interpolations.FilledExtrapolation{Float64, 1, Interpolations.GriddedInterpolation{Float64, 1, Vector{Float64}, Interpolations.Gridded{Interpolations.Linear{Interpolations.Throw{Interpolations.OnGrid}}}, Tuple{Vector{Float64}}}, Interpolations.Gridded{Interpolations.Linear{Interpolations.Throw{Interpolations.OnGrid}}}, Float64}}, POMQuantumEff{Interpolations.FilledExtrapolation{Float64, 1, Interpolations.GriddedInterpolation{Float64, 1, Vector{Float64}, Interpolations.Gridded{Interpolations.Linear{Interpolations.Throw{Interpolations.OnGrid}}}, Tuple{Vector{Float64}}}, Interpolations.Gridded{Interpolations.Linear{Interpolations.Throw{Interpolations.OnGrid}}}, Float64}}})\nThe function `get_pmt_count` exists, but no method is defined for this combination of argument types.\n\nClosest candidates are:\n  get_pmt_count(!Matched::Type{SphericalMultiPMTTarget{N, L}}) where {N, L}\n   @ NeutrinoTelescopeBase /home/saturn/capn/capn100h/julia_depot/packages/NeutrinoTelescopeBase/Eza5j/src/photon_targets.jl:199\n  get_pmt_count(!Matched::SphericalMultiPMTTarget{N, L}) where {N, L}\n   @ NeutrinoTelescopeBase /home/saturn/capn/capn100h/julia_depot/packages/NeutrinoTelescopeBase/Eza5j/src/photon_targets.jl:198\n  get_pmt_count(!Matched::HomogeneousTarget)\n   @ NeutrinoTelescopeBase /home/saturn/capn/capn100h/julia_depot/packages/NeutrinoTelescopeBase/Eza5j/src/photon_targets.jl:197\n",
     "output_type": "error",
     "traceback": [
      "MethodError: no method matching get_pmt_count(::POM{Float64, POMAcceptance{Interpolations.FilledExtrapolation{Float64, 1, Interpolations.GriddedInterpolation{Float64, 1, Vector{Float64}, Interpolations.Gridded{Interpolations.Linear{Interpolations.Throw{Interpolations.OnGrid}}}, Tuple{Vector{Float64}}}, Interpolations.Gridded{Interpolations.Linear{Interpolations.Throw{Interpolations.OnGrid}}}, Float64}}, POMQuantumEff{Interpolations.FilledExtrapolation{Float64, 1, Interpolations.GriddedInterpolation{Float64, 1, Vector{Float64}, Interpolations.Gridded{Interpolations.Linear{Interpolations.Throw{Interpolations.OnGrid}}}, Tuple{Vector{Float64}}}, Interpolations.Gridded{Interpolations.Linear{Interpolations.Throw{Interpolations.OnGrid}}}, Float64}}})\n",
      "The function `get_pmt_count` exists, but no method is defined for this combination of argument types.\n",
      "\n",
      "Closest candidates are:\n",
      "  get_pmt_count(!Matched::Type{SphericalMultiPMTTarget{N, L}}) where {N, L}\n",
      "   @ NeutrinoTelescopeBase /home/saturn/capn/capn100h/julia_depot/packages/NeutrinoTelescopeBase/Eza5j/src/photon_targets.jl:199\n",
      "  get_pmt_count(!Matched::SphericalMultiPMTTarget{N, L}) where {N, L}\n",
      "   @ NeutrinoTelescopeBase /home/saturn/capn/capn100h/julia_depot/packages/NeutrinoTelescopeBase/Eza5j/src/photon_targets.jl:198\n",
      "  get_pmt_count(!Matched::HomogeneousTarget)\n",
      "   @ NeutrinoTelescopeBase /home/saturn/capn/capn100h/julia_depot/packages/NeutrinoTelescopeBase/Eza5j/src/photon_targets.jl:197\n",
      "\n",
      "\n",
      "Stacktrace:\n",
      " [1] top-level scope\n",
      "   @ /home/saturn/capn/capn100h/julia_dev/PhotonSurrogateModel/examples/jl_notebook_cell_df34fa98e69747e1a8f8a730347b8e2f_W3sdnNjb2RlLXJlbW90ZQ==.jl:1"
     ]
    }
   ],
   "source": [
    "get_pmt_count(POM(SA[0., 0., 0.], 1);)"
   ]
  },
  {
   "cell_type": "code",
   "execution_count": 5,
   "metadata": {},
   "outputs": [
    {
     "data": {
      "text/html": [
       "# 3 methods for generic function <b>get_pmt_count</b> from \u001b[35mNeutrinoTelescopeBase\u001b[39m:<ul><li> get_pmt_count(::<b>Type{SphericalMultiPMTTarget{N, L}}</b>)<i> where {N, L}</i> in NeutrinoTelescopeBase at <a href=\"file:///home/saturn/capn/capn100h/julia_depot/packages/NeutrinoTelescopeBase/Eza5j/src/photon_targets.jl\" target=\"_blank\">/home/saturn/capn/capn100h/julia_depot/packages/NeutrinoTelescopeBase/Eza5j/src/photon_targets.jl:199</a></li> <li> get_pmt_count(::<b>SphericalMultiPMTTarget{N, L}</b>)<i> where {N, L}</i> in NeutrinoTelescopeBase at <a href=\"file:///home/saturn/capn/capn100h/julia_depot/packages/NeutrinoTelescopeBase/Eza5j/src/photon_targets.jl\" target=\"_blank\">/home/saturn/capn/capn100h/julia_depot/packages/NeutrinoTelescopeBase/Eza5j/src/photon_targets.jl:198</a></li> <li> get_pmt_count(::<b>HomogeneousTarget</b>) in NeutrinoTelescopeBase at <a href=\"file:///home/saturn/capn/capn100h/julia_depot/packages/NeutrinoTelescopeBase/Eza5j/src/photon_targets.jl\" target=\"_blank\">/home/saturn/capn/capn100h/julia_depot/packages/NeutrinoTelescopeBase/Eza5j/src/photon_targets.jl:197</a></li> </ul>"
      ],
      "text/plain": [
       "# 3 methods for generic function \"get_pmt_count\" from \u001b[35mNeutrinoTelescopeBase\u001b[39m:\n",
       " [1] get_pmt_count(::\u001b[1mType\u001b[22m\u001b[0m{SphericalMultiPMTTarget{N, L}}) where {N, L}\n",
       "\u001b[90m     @\u001b[39m \u001b[90m/home/saturn/capn/capn100h/julia_depot/packages/NeutrinoTelescopeBase/Eza5j/src/\u001b[39m\u001b[90m\u001b[4mphoton_targets.jl:199\u001b[24m\u001b[39m\n",
       " [2] get_pmt_count(::\u001b[1mSphericalMultiPMTTarget\u001b[22m\u001b[0m{N, L}) where {N, L}\n",
       "\u001b[90m     @\u001b[39m \u001b[90m/home/saturn/capn/capn100h/julia_depot/packages/NeutrinoTelescopeBase/Eza5j/src/\u001b[39m\u001b[90m\u001b[4mphoton_targets.jl:198\u001b[24m\u001b[39m\n",
       " [3] get_pmt_count(::\u001b[1mHomogeneousTarget\u001b[22m)\n",
       "\u001b[90m     @\u001b[39m \u001b[90m/home/saturn/capn/capn100h/julia_depot/packages/NeutrinoTelescopeBase/Eza5j/src/\u001b[39m\u001b[90m\u001b[4mphoton_targets.jl:197\u001b[24m\u001b[39m"
      ]
     },
     "metadata": {},
     "output_type": "display_data"
    }
   ],
   "source": [
    "methods(get_pmt_count)"
   ]
  },
  {
   "cell_type": "code",
   "execution_count": 5,
   "metadata": {},
   "outputs": [
    {
     "ename": "MethodError",
     "evalue": "MethodError: no method matching get_pmt_count(::Type{POM{Float64, POMAcceptance{Interpolations.FilledExtrapolation{Float64, 1, Interpolations.GriddedInterpolation{Float64, 1, Vector{Float64}, Interpolations.Gridded{Interpolations.Linear{Interpolations.Throw{Interpolations.OnGrid}}}, Tuple{Vector{Float64}}}, Interpolations.Gridded{Interpolations.Linear{Interpolations.Throw{Interpolations.OnGrid}}}, Float64}}, POMQuantumEff{Interpolations.FilledExtrapolation{Float64, 1, Interpolations.GriddedInterpolation{Float64, 1, Vector{Float64}, Interpolations.Gridded{Interpolations.Linear{Interpolations.Throw{Interpolations.OnGrid}}}, Tuple{Vector{Float64}}}, Interpolations.Gridded{Interpolations.Linear{Interpolations.Throw{Interpolations.OnGrid}}}, Float64}}}})\nThe function `get_pmt_count` exists, but no method is defined for this combination of argument types.\n\nClosest candidates are:\n  get_pmt_count(!Matched::Type{SphericalMultiPMTTarget{N, L}}) where {N, L}\n   @ NeutrinoTelescopeBase /home/saturn/capn/capn100h/julia_depot/packages/NeutrinoTelescopeBase/Eza5j/src/photon_targets.jl:199\n  get_pmt_count(!Matched::SphericalMultiPMTTarget{N, L}) where {N, L}\n   @ NeutrinoTelescopeBase /home/saturn/capn/capn100h/julia_depot/packages/NeutrinoTelescopeBase/Eza5j/src/photon_targets.jl:198\n  get_pmt_count(!Matched::HomogeneousTarget)\n   @ NeutrinoTelescopeBase /home/saturn/capn/capn100h/julia_depot/packages/NeutrinoTelescopeBase/Eza5j/src/photon_targets.jl:197\n",
     "output_type": "error",
     "traceback": [
      "MethodError: no method matching get_pmt_count(::Type{POM{Float64, POMAcceptance{Interpolations.FilledExtrapolation{Float64, 1, Interpolations.GriddedInterpolation{Float64, 1, Vector{Float64}, Interpolations.Gridded{Interpolations.Linear{Interpolations.Throw{Interpolations.OnGrid}}}, Tuple{Vector{Float64}}}, Interpolations.Gridded{Interpolations.Linear{Interpolations.Throw{Interpolations.OnGrid}}}, Float64}}, POMQuantumEff{Interpolations.FilledExtrapolation{Float64, 1, Interpolations.GriddedInterpolation{Float64, 1, Vector{Float64}, Interpolations.Gridded{Interpolations.Linear{Interpolations.Throw{Interpolations.OnGrid}}}, Tuple{Vector{Float64}}}, Interpolations.Gridded{Interpolations.Linear{Interpolations.Throw{Interpolations.OnGrid}}}, Float64}}}})\n",
      "The function `get_pmt_count` exists, but no method is defined for this combination of argument types.\n",
      "\n",
      "Closest candidates are:\n",
      "  get_pmt_count(!Matched::Type{SphericalMultiPMTTarget{N, L}}) where {N, L}\n",
      "   @ NeutrinoTelescopeBase /home/saturn/capn/capn100h/julia_depot/packages/NeutrinoTelescopeBase/Eza5j/src/photon_targets.jl:199\n",
      "  get_pmt_count(!Matched::SphericalMultiPMTTarget{N, L}) where {N, L}\n",
      "   @ NeutrinoTelescopeBase /home/saturn/capn/capn100h/julia_depot/packages/NeutrinoTelescopeBase/Eza5j/src/photon_targets.jl:198\n",
      "  get_pmt_count(!Matched::HomogeneousTarget)\n",
      "   @ NeutrinoTelescopeBase /home/saturn/capn/capn100h/julia_depot/packages/NeutrinoTelescopeBase/Eza5j/src/photon_targets.jl:197\n",
      "\n",
      "\n",
      "Stacktrace:\n",
      " [1] get_log_amplitudes(particles::Vector{Particle{Float64, e-}}, targets::Vector{POM{Float64, POMAcceptance{Interpolations.FilledExtrapolation{Float64, 1, Interpolations.GriddedInterpolation{Float64, 1, Vector{Float64}, Interpolations.Gridded{Interpolations.Linear{Interpolations.Throw{Interpolations.OnGrid}}}, Tuple{Vector{Float64}}}, Interpolations.Gridded{Interpolations.Linear{Interpolations.Throw{Interpolations.OnGrid}}}, Float64}}, POMQuantumEff{Interpolations.FilledExtrapolation{Float64, 1, Interpolations.GriddedInterpolation{Float64, 1, Vector{Float64}, Interpolations.Gridded{Interpolations.Linear{Interpolations.Throw{Interpolations.OnGrid}}}, Tuple{Vector{Float64}}}, Interpolations.Gridded{Interpolations.Linear{Interpolations.Throw{Interpolations.OnGrid}}}, Float64}}}}, model::SimpleMLPAmpModel; feat_buffer::Matrix{Float32}, device::typeof(cpu))\n",
      "   @ PhotonSurrogateModel /home/saturn/capn/capn100h/julia_dev/PhotonSurrogateModel/src/photon_surrogate/amplitude_models.jl:351\n",
      " [2] top-level scope\n",
      "   @ /home/saturn/capn/capn100h/julia_dev/PhotonSurrogateModel/examples/jl_notebook_cell_df34fa98e69747e1a8f8a730347b8e2f_W4sdnNjb2RlLXJlbW90ZQ==.jl:10"
     ]
    }
   ],
   "source": [
    "dir_ct = 0.2\n",
    "dir_phis = 0:0.01:2π\n",
    "target = POM(SA[0., 0., 0.], 1);\n",
    "\n",
    "amps = []\n",
    "\n",
    "for dir_phi in dir_phis\n",
    "    pdir = sph_to_cart(acos(dir_ct), dir_phi)\n",
    "    particle = Particle(SA[0., 10, 0], pdir, 0., 4E3, 0., PEMinus)\n",
    "    log_amps = get_log_amplitudes([particle], [target], model, feat_buffer=feat_buffer, device=cpu)\n",
    "    push!(amps, exp.(log_amps[1]))\n",
    "end\n",
    "    "
   ]
  },
  {
   "cell_type": "code",
   "execution_count": 6,
   "metadata": {},
   "outputs": [
    {
     "ename": "ArgumentError",
     "evalue": "ArgumentError: reducing over an empty collection is not allowed; consider supplying `init` to the reducer",
     "output_type": "error",
     "traceback": [
      "ArgumentError: reducing over an empty collection is not allowed; consider supplying `init` to the reducer\n",
      "\n",
      "Stacktrace:\n",
      "  [1] _empty_reduce_error()\n",
      "    @ Base ./reduce.jl:319\n",
      "  [2] mapreduce_empty(f::Function, op::Function, T::Type)\n",
      "    @ Base ./reduce.jl:321\n",
      "  [3] reduce_empty(op::Base.MappingRF{typeof(typeof), typeof(promote_type)}, ::Type{Any})\n",
      "    @ Base ./reduce.jl:358\n",
      "  [4] reduce_empty_iter\n",
      "    @ ./reduce.jl:381 [inlined]\n",
      "  [5] mapreduce_empty_iter(f::Function, op::Function, itr::Vector{Any}, ItrEltype::Base.HasEltype)\n",
      "    @ Base ./reduce.jl:377\n",
      "  [6] _mapreduce(f::typeof(typeof), op::typeof(promote_type), ::IndexLinear, A::Vector{Any})\n",
      "    @ Base ./reduce.jl:429\n",
      "  [7] _mapreduce_dim\n",
      "    @ ./reducedim.jl:337 [inlined]\n",
      "  [8] mapreduce\n",
      "    @ ./reducedim.jl:329 [inlined]\n",
      "  [9] get_element_type\n",
      "    @ /home/saturn/capn/capn100h/julia_depot/packages/MakieCore/yRxVU/src/conversion.jl:107 [inlined]\n",
      " [10] should_dim_convert(P::PointBased, arg::Vector{Any})\n",
      "    @ MakieCore /home/saturn/capn/capn100h/julia_depot/packages/MakieCore/yRxVU/src/conversion.jl:151\n",
      " [11] (::Makie.var\"#208#210\"{UnionAll, PointBased, Tuple{Observable{Any}, Observable{Any}}, Vector{Observables.ObserverFunction}, Makie.DimConversions})(i::Int64)\n",
      "    @ Makie /home/saturn/capn/capn100h/julia_depot/packages/Makie/6KcTF/src/dim-converts/dim-converts.jl:188\n",
      " [12] ntuple\n",
      "    @ ./ntuple.jl:19 [inlined]\n",
      " [13] try_dim_convert(P::Type{Lines}, PTrait::PointBased, user_attributes::Dict{Symbol, Any}, args_obs::Tuple{Observable{Any}, Observable{Any}}, deregister::Vector{Observables.ObserverFunction})\n",
      "    @ Makie /home/saturn/capn/capn100h/julia_depot/packages/Makie/6KcTF/src/dim-converts/dim-converts.jl:183\n",
      " [14] conversion_pipeline(P::Type{Lines}, used_attrs::Tuple{}, args::Tuple{StepRangeLen{Float64, Base.TwicePrecision{Float64}, Base.TwicePrecision{Float64}, Int64}, Vector{Any}}, kw_obs::Observable{Vector{Pair{Symbol, Any}}}, args_obs::Tuple{Observable{Any}, Observable{Any}}, user_attributes::Dict{Symbol, Any}, deregister::Vector{Observables.ObserverFunction}, recursion::Int64)\n",
      "    @ Makie /home/saturn/capn/capn100h/julia_depot/packages/Makie/6KcTF/src/interfaces.jl:220\n",
      " [15] conversion_pipeline(P::Type{Lines}, used_attrs::Tuple{}, args::Tuple{StepRangeLen{Float64, Base.TwicePrecision{Float64}, Base.TwicePrecision{Float64}, Int64}, Vector{Any}}, kw_obs::Observable{Vector{Pair{Symbol, Any}}}, args_obs::Tuple{Observable{Any}, Observable{Any}}, user_attributes::Dict{Symbol, Any}, deregister::Vector{Observables.ObserverFunction})\n",
      "    @ Makie /home/saturn/capn/capn100h/julia_depot/packages/Makie/6KcTF/src/interfaces.jl:213\n",
      " [16] (Lines)(user_args::Tuple{StepRangeLen{Float64, Base.TwicePrecision{Float64}, Base.TwicePrecision{Float64}, Int64}, Vector{Any}}, user_attributes::Dict{Symbol, Any})\n",
      "    @ Makie /home/saturn/capn/capn100h/julia_depot/packages/Makie/6KcTF/src/interfaces.jl:273\n",
      " [17] _create_plot!(::Function, ::Dict{Symbol, Any}, ::Axis, ::StepRangeLen{Float64, Base.TwicePrecision{Float64}, Base.TwicePrecision{Float64}, Int64}, ::Vararg{Any})\n",
      "    @ Makie /home/saturn/capn/capn100h/julia_depot/packages/Makie/6KcTF/src/figureplotting.jl:377\n",
      " [18] lines!(::Axis, ::Vararg{Any}; kw::@Kwargs{})\n",
      "    @ MakieCore /home/saturn/capn/capn100h/julia_depot/packages/MakieCore/yRxVU/src/recipes.jl:514\n",
      " [19] lines!(::Axis, ::Vararg{Any})\n",
      "    @ MakieCore /home/saturn/capn/capn100h/julia_depot/packages/MakieCore/yRxVU/src/recipes.jl:512\n",
      " [20] top-level scope\n",
      "    @ /home/saturn/capn/capn100h/julia_dev/PhotonSurrogateModel/examples/jl_notebook_cell_df34fa98e69747e1a8f8a730347b8e2f_W5sdnNjb2RlLXJlbW90ZQ==.jl:12"
     ]
    }
   ],
   "source": [
    "fig = Figure(size=(1000, 1000))\n",
    "axes = []\n",
    "for pmt_ix in 1:16\n",
    "    row, col = divrem(pmt_ix-1, 4)\n",
    "    ax = Axis(fig[row, col], xlabel=\"phi\", ylabel=\"amp\")\n",
    "    push!(axes, ax)\n",
    "end\n",
    "\n",
    "\n",
    "for pmt_ix in 1:16\n",
    "    this_amps = [a[pmt_ix] for a in amps]\n",
    "    lines!(axes[pmt_ix], dir_phis, this_amps)\n",
    "end\n",
    "fig\n",
    "\n",
    "\n"
   ]
  },
  {
   "cell_type": "code",
   "execution_count": 28,
   "metadata": {},
   "outputs": [
    {
     "data": {
      "text/plain": [
       "(16, 1, 1)"
      ]
     },
     "metadata": {},
     "output_type": "display_data"
    }
   ],
   "source": [
    "size(log_amps[1])"
   ]
  },
  {
   "cell_type": "code",
   "execution_count": null,
   "metadata": {},
   "outputs": [],
   "source": []
  }
 ],
 "metadata": {
  "kernelspec": {
   "display_name": "Julia 1.11.5",
   "language": "julia",
   "name": "julia-1.11"
  },
  "language_info": {
   "file_extension": ".jl",
   "mimetype": "application/julia",
   "name": "julia",
   "version": "1.11.5"
  }
 },
 "nbformat": 4,
 "nbformat_minor": 2
}
