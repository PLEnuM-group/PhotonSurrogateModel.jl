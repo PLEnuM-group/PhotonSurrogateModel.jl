{
 "cells": [
  {
   "cell_type": "code",
   "execution_count": 1,
   "metadata": {},
   "outputs": [
    {
     "name": "stdout",
     "output_type": "stream",
     "text": [
      "Detected IPython. Loading juliacall extension. See https://juliapy.github.io/PythonCall.jl/stable/compat/#IPython\n"
     ]
    },
    {
     "name": "stderr",
     "output_type": "stream",
     "text": [
      "Precompiling PhotonSurrogateModel\n",
      "  ✗ PyCall\n",
      "  ✓ PhysicsTools\n",
      "  ✓ PhotonPropagation\n",
      "  ✓ PhotonSurrogateModel\n",
      "  3 dependencies successfully precompiled in 27 seconds. 278 already precompiled.\n",
      "  1 dependency had output during precompilation:\n",
      "┌ PhysicsTools\n",
      "│  ERROR: LoadError: PyCall not properly installed. Please run Pkg.build(\"PyCall\")\n",
      "│  Stacktrace:\n",
      "│   [1] error(s::String)\n",
      "│     @ Base ./error.jl:35\n",
      "│   [2] top-level scope\n",
      "│     @ ~/.julia/packages/PyCall/1gn3u/src/startup.jl:44\n",
      "│   [3] include(mod::Module, _path::String)\n",
      "│     @ Base ./Base.jl:495\n",
      "│   [4] include(x::String)\n",
      "│     @ PyCall ~/.julia/packages/PyCall/1gn3u/src/PyCall.jl:1\n",
      "│   [5] top-level scope\n",
      "│     @ ~/.julia/packages/PyCall/1gn3u/src/PyCall.jl:38\n",
      "│   [6] include\n",
      "│     @ ./Base.jl:495 [inlined]\n",
      "│   [7] include_package_for_output(pkg::Base.PkgId, input::String, depot_path::Vector{String}, dl_load_path::Vector{String}, load_path::Vector{String}, concrete_deps::Vector{Pair{Base.PkgId, UInt128}}, source::String)\n",
      "│     @ Base ./loading.jl:2222\n",
      "│   [8] top-level scope\n",
      "│     @ stdin:3\n",
      "│  in expression starting at /home/hpc/capn/capn100h/.julia/packages/PyCall/1gn3u/src/startup.jl:41\n",
      "│  in expression starting at /home/hpc/capn/capn100h/.julia/packages/PyCall/1gn3u/src/PyCall.jl:1\n",
      "│  in expression starting at stdin:3\n",
      "│  ┌ Warning: Could not load proposal interface: LoadError(\"/home/hpc/capn/capn100h/.julia/packages/PhysicsTools/Gme5s/src/proposal_interface.jl\", 1, ErrorException(\"Failed to precompile PyCall [438e738f-606a-5dbb-bf0a-cddfbfd45ab0] to \\\"/home/hpc/capn/capn100h/.julia/compiled/v1.10/PyCall/jl_Ovu9FL\\\".\"))\n",
      "│  └ @ PhysicsTools ~/.julia/packages/PhysicsTools/Gme5s/src/PhysicsTools.jl:16\n",
      "│  \n",
      "│  WARNING: detected unclosed module: PhysicsTools.ProposalInterface\n",
      "│    ** incremental compilation may be broken for this module **\n",
      "└  \n"
     ]
    }
   ],
   "source": [
    "from juliacall import Main as jl\n",
    "jl.seval(\"using PhotonSurrogateModel\")"
   ]
  },
  {
   "cell_type": "code",
   "execution_count": null,
   "metadata": {},
   "outputs": [],
   "source": []
  }
 ],
 "metadata": {
  "kernelspec": {
   "display_name": "base",
   "language": "python",
   "name": "python3"
  },
  "language_info": {
   "codemirror_mode": {
    "name": "ipython",
    "version": 3
   },
   "file_extension": ".py",
   "mimetype": "text/x-python",
   "name": "python",
   "nbconvert_exporter": "python",
   "pygments_lexer": "ipython3",
   "version": "3.12.3"
  }
 },
 "nbformat": 4,
 "nbformat_minor": 2
}
