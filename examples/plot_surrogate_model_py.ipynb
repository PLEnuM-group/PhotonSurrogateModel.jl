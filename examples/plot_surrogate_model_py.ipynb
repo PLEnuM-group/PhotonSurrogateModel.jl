{
 "cells": [
  {
   "cell_type": "code",
   "execution_count": null,
   "metadata": {},
   "outputs": [
    {
     "ename": "",
     "evalue": "",
     "output_type": "error",
     "traceback": [
      "\u001b[1;31mRunning cells with 'env (Python 3.12.3)' requires the ipykernel package.\n",
      "\u001b[1;31mRun the following command to install 'ipykernel' into the Python environment. \n",
      "\u001b[1;31mCommand: 'conda install -p /home/hpc/capn/capn100h/.julia/environments/v1.10/.CondaPkg/env ipykernel --update-deps --force-reinstall'"
     ]
    }
   ],
   "source": [
    "from juliacall import Main as jl\n",
    "import juliacall\n",
    "jl.seval(\"\"\"\n",
    "using PhotonSurrogateModel\n",
    "using PhotonPropagation\n",
    "using PhotonSurrogateModel\n",
    "using NeutrinoSurrogateModelData\n",
    "using PhysicsTools\n",
    "using StaticArrays\n",
    "using LinearAlgebra\n",
    "using Random\n",
    "using Flux\n",
    "using DataFrames\n",
    "\"\"\")"
   ]
  },
  {
   "cell_type": "code",
   "execution_count": null,
   "metadata": {},
   "outputs": [],
   "source": [
    "def make_particle(pos, dir, time, energy, length, type):\n",
    "    \n",
    "\n",
    "    return jl.Particle()\n",
    "\n",
    "\n",
    "\n",
    "\n",
    "log_expec_per_pmt, log_expec_per_src_pmt_rs = get_log_amplitudes(\n",
    "            [setting.particle],\n",
    "            [setting.target],\n",
    "             setting.model;\n",
    "             feat_buffer=feat_buffer,\n",
    "             device=device,\n",
    "             abs_scale=setting.abs_scale,\n",
    "             sca_scale=setting.sca_scale)"
   ]
  }
 ],
 "metadata": {
  "kernelspec": {
   "display_name": "base",
   "language": "python",
   "name": "python3"
  },
  "language_info": {
   "codemirror_mode": {
    "name": "ipython",
    "version": 3
   },
   "file_extension": ".py",
   "mimetype": "text/x-python",
   "name": "python",
   "nbconvert_exporter": "python",
   "pygments_lexer": "ipython3",
   "version": "3.12.3"
  }
 },
 "nbformat": 4,
 "nbformat_minor": 2
}
